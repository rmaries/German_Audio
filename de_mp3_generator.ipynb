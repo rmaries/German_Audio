{
 "cells": [
  {
   "cell_type": "code",
   "execution_count": 2,
   "metadata": {},
   "outputs": [],
   "source": [
    "import gtts\n",
    "counter = 1\n",
    "with open(\"verb_mit_preposition.txt\", 'r') as f:\n",
    "    lines = f.readlines()\n",
    "    for line in lines:\n",
    "        tts = gtts.gTTS(text=line.strip(), lang=\"de\")\n",
    "        tts.save(\"./verb_mit_preposition_voice/vmp_\"+str(counter)+\".mp3\")\n",
    "        counter += 1"
   ]
  }
 ],
 "metadata": {
  "kernelspec": {
   "display_name": "Python 3",
   "language": "python",
   "name": "python3"
  },
  "language_info": {
   "codemirror_mode": {
    "name": "ipython",
    "version": 3
   },
   "file_extension": ".py",
   "mimetype": "text/x-python",
   "name": "python",
   "nbconvert_exporter": "python",
   "pygments_lexer": "ipython3",
   "version": "3.7.3"
  }
 },
 "nbformat": 4,
 "nbformat_minor": 2
}
